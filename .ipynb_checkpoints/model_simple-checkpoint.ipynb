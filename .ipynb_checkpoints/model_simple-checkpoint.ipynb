{
 "cells": [
  {
   "cell_type": "code",
   "execution_count": 1,
   "metadata": {},
   "outputs": [
    {
     "name": "stdout",
     "output_type": "stream",
     "text": [
      "TensorFlow version:  2.3.0\n"
     ]
    }
   ],
   "source": [
    "# Load the TensorBoard notebook extension.\n",
    "%load_ext tensorboard\n",
    "\n",
    "import numpy as np\n",
    "from datetime import datetime\n",
    "from packaging import version\n",
    "import tensorflow as tf\n",
    "from tensorflow import keras\n",
    "from tensorflow.keras.models import load_model\n",
    "from tensorflow.keras.callbacks import TensorBoard\n",
    "\n",
    "from tensorflow_model.efficientnet import EfficientNet\n",
    "\n",
    "print(\"TensorFlow version: \", tf.__version__)\n",
    "assert version.parse(tf.__version__).release[0] >= 2, \\\n",
    "    \"This notebook requires TensorFlow 2.3.0 or above.\""
   ]
  },
  {
   "cell_type": "markdown",
   "metadata": {},
   "source": [
    "# EfficientNet-B2"
   ]
  },
  {
   "cell_type": "code",
   "execution_count": 2,
   "metadata": {},
   "outputs": [],
   "source": [
    "# Change to other families by referencing: \n",
    "# ~\\miniconda3\\envs\\carnd\\Lib\\site-packages\\tensorflow\\python\\keras\\applications\\efficientnet.py\n",
    "\n",
    "def EfficientNetB2(include_top=True,\n",
    "                   weights='imagenet',\n",
    "                   input_tensor=None,\n",
    "                   input_shape=None,\n",
    "                   pooling=None,\n",
    "                   classes=1000,\n",
    "                   classifier_activation='softmax',\n",
    "                   **kwargs):\n",
    "  return EfficientNet(\n",
    "      1.1,\n",
    "      1.2,\n",
    "      260,\n",
    "      0.3,\n",
    "      model_name='efficientnetb2',\n",
    "      include_top=include_top,\n",
    "      weights=weights,\n",
    "      input_tensor=input_tensor,\n",
    "      input_shape=input_shape,\n",
    "      pooling=pooling,\n",
    "      classes=classes,\n",
    "      classifier_activation=classifier_activation,\n",
    "      **kwargs)"
   ]
  },
  {
   "cell_type": "code",
   "execution_count": 3,
   "metadata": {},
   "outputs": [
    {
     "name": "stdout",
     "output_type": "stream",
     "text": [
      "Model: \"functional_1\"\n",
      "_________________________________________________________________\n",
      "Layer (type)                 Output Shape              Param #   \n",
      "=================================================================\n",
      "input_imgs (InputLayer)      [(None, 12, 128, 256)]    0         \n",
      "_________________________________________________________________\n",
      "permute (Permute)            (None, 128, 256, 12)      0         \n",
      "_________________________________________________________________\n",
      "efficientnetb2 (Functional)  (None, 4, 8, 1408)        7771179   \n",
      "=================================================================\n",
      "Total params: 7,771,179\n",
      "Trainable params: 7,703,586\n",
      "Non-trainable params: 67,593\n",
      "_________________________________________________________________\n",
      "None\n"
     ]
    }
   ],
   "source": [
    "img_input_data = keras.layers.Input(shape=(12, 128, 256), name=\"input_imgs\")\n",
    "permute1 = keras.layers.Permute((2,3,1))(img_input_data)\n",
    "efficientnet = EfficientNetB2(include_top=False, weights = None, input_shape=(128,256,12))(permute1)\n",
    "#conv2d1 = tf.keras.layers.Conv2D(3, 3, padding='same')(efficientnet)\n",
    "output = efficientnet\n",
    "model = keras.models.Model(inputs=[img_input_data], outputs=[output])\n",
    "\n",
    "# Renaming all layers which deals with image\n",
    "\"\"\"\n",
    "for layer in model.layers:\n",
    "    layer._name = \"vision_\" + layer.name\n",
    "\"\"\"\n",
    "    \n",
    "#concat = keras.layers.concatenate([input_data, hidden2])\n",
    "\n",
    "\n",
    "print(model.summary())"
   ]
  },
  {
   "cell_type": "code",
   "execution_count": null,
   "metadata": {},
   "outputs": [],
   "source": []
  }
 ],
 "metadata": {
  "kernelspec": {
   "display_name": "Python 3",
   "language": "python",
   "name": "python3"
  },
  "language_info": {
   "codemirror_mode": {
    "name": "ipython",
    "version": 3
   },
   "file_extension": ".py",
   "mimetype": "text/x-python",
   "name": "python",
   "nbconvert_exporter": "python",
   "pygments_lexer": "ipython3",
   "version": "3.6.2"
  }
 },
 "nbformat": 4,
 "nbformat_minor": 4
}
