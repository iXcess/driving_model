{
 "cells": [
  {
   "cell_type": "code",
   "execution_count": 1,
   "metadata": {},
   "outputs": [
    {
     "name": "stdout",
     "output_type": "stream",
     "text": [
      "TensorFlow version:  2.3.0\n"
     ]
    }
   ],
   "source": [
    "# Load the TensorBoard notebook extension.\n",
    "%load_ext tensorboard\n",
    "\n",
    "import numpy as np\n",
    "from datetime import datetime\n",
    "from packaging import version\n",
    "import tensorflow as tf\n",
    "from tensorflow import keras\n",
    "from tensorflow.keras.models import load_model\n",
    "from tensorflow.keras.callbacks import TensorBoard\n",
    "\n",
    "from tensorflow_model.efficientnet import EfficientNet\n",
    "\n",
    "print(\"TensorFlow version: \", tf.__version__)\n",
    "assert version.parse(tf.__version__).release[0] >= 2, \\\n",
    "    \"This notebook requires TensorFlow 2.3.0 or above.\""
   ]
  },
  {
   "cell_type": "markdown",
   "metadata": {},
   "source": [
    "# EfficientNet-B2"
   ]
  },
  {
   "cell_type": "code",
   "execution_count": 2,
   "metadata": {},
   "outputs": [],
   "source": [
    "# Change to other families by referencing: \n",
    "# ~\\miniconda3\\envs\\carnd\\Lib\\site-packages\\tensorflow\\python\\keras\\applications\\efficientnet.py\n",
    "\n",
    "def EfficientNetB2(include_top=True,\n",
    "                   weights='imagenet',\n",
    "                   input_tensor=None,\n",
    "                   input_shape=None,\n",
    "                   pooling=None,\n",
    "                   classes=1000,\n",
    "                   classifier_activation='softmax',\n",
    "                   **kwargs):\n",
    "    return EfficientNet(\n",
    "        1.1,\n",
    "        1.2,\n",
    "        260,\n",
    "        0.3,\n",
    "        model_name='efficientnetb2',\n",
    "        include_top=include_top,\n",
    "        weights=weights,\n",
    "        input_tensor=input_tensor,\n",
    "        input_shape=input_shape,\n",
    "        pooling=pooling,\n",
    "        classes=classes,\n",
    "        classifier_activation=classifier_activation,\n",
    "        **kwargs)"
   ]
  },
  {
   "cell_type": "code",
   "execution_count": 3,
   "metadata": {},
   "outputs": [
    {
     "name": "stdout",
     "output_type": "stream",
     "text": [
      "Model: \"functional_1\"\n",
      "_________________________________________________________________\n",
      "Layer (type)                 Output Shape              Param #   \n",
      "=================================================================\n",
      "input_imgs (InputLayer)      [(None, 12, 128, 256)]    0         \n",
      "_________________________________________________________________\n",
      "permute (Permute)            (None, 128, 256, 12)      0         \n",
      "_________________________________________________________________\n",
      "efficientnetb2 (Functional)  (None, 4, 8, 1408)        7771179   \n",
      "_________________________________________________________________\n",
      "conv2d (Conv2D)              (None, 4, 8, 32)          405536    \n",
      "_________________________________________________________________\n",
      "batch_normalization (BatchNo (None, 4, 8, 32)          128       \n",
      "_________________________________________________________________\n",
      "elu (ELU)                    (None, 4, 8, 32)          0         \n",
      "_________________________________________________________________\n",
      "vision_features (Flatten)    (None, 1024)              0         \n",
      "_________________________________________________________________\n",
      "dense (Dense)                (None, 512)               524800    \n",
      "_________________________________________________________________\n",
      "dense1_relu (ReLU)           (None, 512)               0         \n",
      "_________________________________________________________________\n",
      "dense_1 (Dense)              (None, 256)               131328    \n",
      "_________________________________________________________________\n",
      "dense2_relu (ReLU)           (None, 256)               0         \n",
      "_________________________________________________________________\n",
      "dense_2 (Dense)              (None, 128)               32896     \n",
      "_________________________________________________________________\n",
      "dense3_relu (ReLU)           (None, 128)               0         \n",
      "_________________________________________________________________\n",
      "dense_3 (Dense)              (None, 200)               25800     \n",
      "=================================================================\n",
      "Total params: 8,891,667\n",
      "Trainable params: 8,824,010\n",
      "Non-trainable params: 67,657\n",
      "_________________________________________________________________\n",
      "None\n"
     ]
    }
   ],
   "source": [
    "img_input_data = keras.layers.Input(shape=(12, 128, 256), name=\"input_imgs\")\n",
    "permute1 = keras.layers.Permute((2,3,1))(img_input_data)\n",
    "efficientnet = EfficientNetB2(include_top=False, weights = None, input_shape=(128,256,12))(permute1)\n",
    "conv2d1 = tf.keras.layers.Conv2D(32, 3, padding='same')(efficientnet)\n",
    "normalization = keras.layers.BatchNormalization()(conv2d1)\n",
    "elu1 = tf.keras.layers.ELU(alpha=1.0)(normalization)\n",
    "flatten1 = tf.keras.layers.Flatten(name=\"vision_features\")(elu1)\n",
    "\n",
    "\n",
    "dense1 = tf.keras.layers.Dense(512)(flatten1)\n",
    "dense1_relu = tf.keras.layers.ReLU(name=\"dense1_relu\")(dense1)\n",
    "dense2 = tf.keras.layers.Dense(256)(dense1_relu)\n",
    "dense2_relu = tf.keras.layers.ReLU(name=\"dense2_relu\")(dense2)\n",
    "dense3 = tf.keras.layers.Dense(128)(dense2_relu)\n",
    "dense3_relu = tf.keras.layers.ReLU(name=\"dense3_relu\")(dense3)\n",
    "path = tf.keras.layers.Dense(200)(dense3_relu)\n",
    "\n",
    "output = path\n",
    "model = keras.models.Model(inputs=[img_input_data], outputs=[output])\n",
    "\n",
    "# Renaming all layers which deals with image\n",
    "\"\"\"\n",
    "for layer in model.layers:\n",
    "    layer._name = \"vision_\" + layer.name\n",
    "\"\"\"\n",
    "    \n",
    "#concat = keras.layers.concatenate([input_data, hidden2])\n",
    "\n",
    "\n",
    "print(model.summary())"
   ]
  },
  {
   "cell_type": "code",
   "execution_count": null,
   "metadata": {},
   "outputs": [],
   "source": []
  }
 ],
 "metadata": {
  "kernelspec": {
   "display_name": "Python 3",
   "language": "python",
   "name": "python3"
  },
  "language_info": {
   "codemirror_mode": {
    "name": "ipython",
    "version": 3
   },
   "file_extension": ".py",
   "mimetype": "text/x-python",
   "name": "python",
   "nbconvert_exporter": "python",
   "pygments_lexer": "ipython3",
   "version": "3.6.2"
  }
 },
 "nbformat": 4,
 "nbformat_minor": 4
}
