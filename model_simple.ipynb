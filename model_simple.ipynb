{
 "cells": [
  {
   "cell_type": "code",
   "execution_count": 1,
   "metadata": {},
   "outputs": [
    {
     "name": "stdout",
     "output_type": "stream",
     "text": [
      "TensorFlow version:  2.3.0\n"
     ]
    }
   ],
   "source": [
    "# Load the TensorBoard notebook extension.\n",
    "%load_ext tensorboard\n",
    "\n",
    "import numpy as np\n",
    "from datetime import datetime\n",
    "from packaging import version\n",
    "import tensorflow as tf\n",
    "from tensorflow import keras\n",
    "from tensorflow.keras.models import load_model\n",
    "from tensorflow.keras.callbacks import TensorBoard\n",
    "\n",
    "print(\"TensorFlow version: \", tf.__version__)\n",
    "assert version.parse(tf.__version__).release[0] >= 2, \\\n",
    "    \"This notebook requires TensorFlow 2.3.0 or above.\""
   ]
  },
  {
   "cell_type": "code",
   "execution_count": 2,
   "metadata": {},
   "outputs": [
    {
     "name": "stdout",
     "output_type": "stream",
     "text": [
      "Model: \"functional_1\"\n",
      "_________________________________________________________________\n",
      "Layer (type)                 Output Shape              Param #   \n",
      "=================================================================\n",
      "input_imgs (InputLayer)      [(None, 12, 128, 256)]    0         \n",
      "_________________________________________________________________\n",
      "permute (Permute)            (None, 128, 256, 12)      0         \n",
      "_________________________________________________________________\n",
      "conv2d (Conv2D)              (None, 128, 256, 3)       327       \n",
      "_________________________________________________________________\n",
      "efficientnetb2 (Functional)  (None, 4, 8, 1408)        7768569   \n",
      "=================================================================\n",
      "Total params: 7,768,896\n",
      "Trainable params: 7,701,321\n",
      "Non-trainable params: 67,575\n",
      "_________________________________________________________________\n",
      "None\n"
     ]
    }
   ],
   "source": [
    "img_input_data = keras.layers.Input(shape=(12, 128, 256), name=\"input_imgs\")\n",
    "permute1 = keras.layers.Permute((2,3,1))(img_input_data)\n",
    "permute1 = tf.keras.layers.Conv2D(3, 3, padding='same')(permute1)\n",
    "efficientnet = keras.applications.EfficientNetB2(include_top=False, weights = \"imagenet\", input_shape=(128,256,3))(permute1)\n",
    "output = efficientnet\n",
    "model = keras.models.Model(inputs=[img_input_data], outputs=[output])\n",
    "\n",
    "# Renaming all layers which deals with image\n",
    "\"\"\"\n",
    "for layer in model.layers:\n",
    "    layer._name = \"vision_\" + layer.name\n",
    "\"\"\"\n",
    "    \n",
    "#concat = keras.layers.concatenate([input_data, hidden2])\n",
    "\n",
    "\n",
    "print(model.summary())"
   ]
  },
  {
   "cell_type": "code",
   "execution_count": null,
   "metadata": {},
   "outputs": [],
   "source": []
  }
 ],
 "metadata": {
  "kernelspec": {
   "display_name": "Python 3",
   "language": "python",
   "name": "python3"
  },
  "language_info": {
   "codemirror_mode": {
    "name": "ipython",
    "version": 3
   },
   "file_extension": ".py",
   "mimetype": "text/x-python",
   "name": "python",
   "nbconvert_exporter": "python",
   "pygments_lexer": "ipython3",
   "version": "3.6.2"
  }
 },
 "nbformat": 4,
 "nbformat_minor": 4
}
